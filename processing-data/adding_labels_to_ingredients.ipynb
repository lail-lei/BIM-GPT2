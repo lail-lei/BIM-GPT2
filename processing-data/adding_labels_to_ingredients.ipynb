{
  "nbformat": 4,
  "nbformat_minor": 0,
  "metadata": {
    "colab": {
      "name": "adding_labels_to_ingredients.ipynb",
      "provenance": [],
      "authorship_tag": "ABX9TyO5IBXe7eye/IhMn0LBAtqX",
      "include_colab_link": true
    },
    "kernelspec": {
      "name": "python3",
      "display_name": "Python 3"
    },
    "language_info": {
      "name": "python"
    }
  },
  "cells": [
    {
      "cell_type": "markdown",
      "metadata": {
        "id": "view-in-github",
        "colab_type": "text"
      },
      "source": [
        "<a href=\"https://colab.research.google.com/github/lail-lei/nlp-cupcakes/blob/main/adding_labels_to_ingredients.ipynb\" target=\"_parent\"><img src=\"https://colab.research.google.com/assets/colab-badge.svg\" alt=\"Open In Colab\"/></a>"
      ]
    },
    {
      "cell_type": "code",
      "metadata": {
        "colab": {
          "base_uri": "https://localhost:8080/"
        },
        "id": "FqYjSah7nTzI",
        "outputId": "aaf292a1-73ba-479d-aeb3-ffc3743d752b"
      },
      "source": [
        "import pandas as pd\n",
        "from sklearn.feature_extraction.text import TfidfVectorizer \n",
        "import math\n",
        "import re\n",
        "from textblob import TextBlob as tb\n",
        "import nltk\n",
        "nltk.download('punkt')\n",
        "from nltk.corpus import stopwords\n",
        "nltk.download('stopwords')\n",
        "nltk.download('wordnet')\n",
        "from nltk.tokenize import word_tokenize\n",
        "from nltk.stem import WordNetLemmatizer\n",
        "from google.colab import files"
      ],
      "execution_count": 159,
      "outputs": [
        {
          "output_type": "stream",
          "text": [
            "[nltk_data] Downloading package punkt to /root/nltk_data...\n",
            "[nltk_data]   Package punkt is already up-to-date!\n",
            "[nltk_data] Downloading package stopwords to /root/nltk_data...\n",
            "[nltk_data]   Package stopwords is already up-to-date!\n",
            "[nltk_data] Downloading package wordnet to /root/nltk_data...\n",
            "[nltk_data]   Package wordnet is already up-to-date!\n"
          ],
          "name": "stdout"
        }
      ]
    },
    {
      "cell_type": "code",
      "metadata": {
        "id": "LAoHAlnRW42d"
      },
      "source": [
        "# our data from csv\n",
        "df = pd.read_csv('https://raw.githubusercontent.com/lail-lei/nlp-cupcakes/main/cupcakes_with_frosting.csv')"
      ],
      "execution_count": 160,
      "outputs": []
    },
    {
      "cell_type": "code",
      "metadata": {
        "colab": {
          "base_uri": "https://localhost:8080/",
          "height": 946
        },
        "id": "kriehuf9XQ9_",
        "outputId": "3e4dc40f-e891-43c8-b5fe-cf0f0f3ba5a3"
      },
      "source": [
        "df = df.iloc[:, 0:6]\n",
        "df"
      ],
      "execution_count": 161,
      "outputs": [
        {
          "output_type": "execute_result",
          "data": {
            "text/html": [
              "<div>\n",
              "<style scoped>\n",
              "    .dataframe tbody tr th:only-of-type {\n",
              "        vertical-align: middle;\n",
              "    }\n",
              "\n",
              "    .dataframe tbody tr th {\n",
              "        vertical-align: top;\n",
              "    }\n",
              "\n",
              "    .dataframe thead th {\n",
              "        text-align: right;\n",
              "    }\n",
              "</style>\n",
              "<table border=\"1\" class=\"dataframe\">\n",
              "  <thead>\n",
              "    <tr style=\"text-align: right;\">\n",
              "      <th></th>\n",
              "      <th>Title</th>\n",
              "      <th>Yield</th>\n",
              "      <th>Ingredients</th>\n",
              "      <th>Steps</th>\n",
              "      <th>URL</th>\n",
              "      <th>Tags</th>\n",
              "    </tr>\n",
              "  </thead>\n",
              "  <tbody>\n",
              "    <tr>\n",
              "      <th>0</th>\n",
              "      <td>Coconut Cupcakes</td>\n",
              "      <td>18 to 20 cupcakes</td>\n",
              "      <td>[{'frosting': ['1 pound cream cheese at room t...</td>\n",
              "      <td>['Preheat the oven to 325 degrees F. In the bo...</td>\n",
              "      <td>https://www.foodnetwork.com/recipes/ina-garten...</td>\n",
              "      <td>['Baking', 'Dessert', 'Mixer Recipes', 'Cupcak...</td>\n",
              "    </tr>\n",
              "    <tr>\n",
              "      <th>1</th>\n",
              "      <td>Go-To Vanilla Cupcakes</td>\n",
              "      <td>12 cupcakes (or about 48 mini cupcakes)</td>\n",
              "      <td>[{'main': ['1 1/2 cups all purpose flour', '1 ...</td>\n",
              "      <td>['Preheat the oven to 350 degrees F and positi...</td>\n",
              "      <td>https://www.foodnetwork.com/recipes/food-netwo...</td>\n",
              "      <td>['Baking', 'Dessert', 'Cupcake']</td>\n",
              "    </tr>\n",
              "    <tr>\n",
              "      <th>2</th>\n",
              "      <td>Vanilla Cupcakes</td>\n",
              "      <td>12 cupcakes</td>\n",
              "      <td>[{'frosting': ['4 large egg whites', '3/4 cup ...</td>\n",
              "      <td>['Preheat the oven to 350 degrees F. Line a 12...</td>\n",
              "      <td>https://www.foodnetwork.com/recipes/food-netwo...</td>\n",
              "      <td>['Easy Baking', 'Cupcake']</td>\n",
              "    </tr>\n",
              "    <tr>\n",
              "      <th>3</th>\n",
              "      <td>Magnolia's Vanilla Cupcake</td>\n",
              "      <td>24 cupcakes</td>\n",
              "      <td>[{'main': ['1 1/2 cups self rising flour', '1 ...</td>\n",
              "      <td>['Preheat oven to 350 degrees F. Line 2 muffin...</td>\n",
              "      <td>https://www.foodnetwork.com/recipes/magnolias-...</td>\n",
              "      <td>['Easy Dessert Recipes', 'Dessert', 'Easy Baki...</td>\n",
              "    </tr>\n",
              "    <tr>\n",
              "      <th>4</th>\n",
              "      <td>Lemon Lime Cupcakes</td>\n",
              "      <td>48 mini cupcakes</td>\n",
              "      <td>[{'main': ['1 3/4 cups all purpose flour', '1/...</td>\n",
              "      <td>['For the batter Preheat the oven to 350 degre...</td>\n",
              "      <td>https://www.foodnetwork.com/recipes/ree-drummo...</td>\n",
              "      <td>['Cupcake', 'Dessert']</td>\n",
              "    </tr>\n",
              "    <tr>\n",
              "      <th>...</th>\n",
              "      <td>...</td>\n",
              "      <td>...</td>\n",
              "      <td>...</td>\n",
              "      <td>...</td>\n",
              "      <td>...</td>\n",
              "      <td>...</td>\n",
              "    </tr>\n",
              "    <tr>\n",
              "      <th>750</th>\n",
              "      <td>Buttercream by Billington's</td>\n",
              "      <td>12</td>\n",
              "      <td>[{'main': ['50g Unsalted butter ', '200g Billi...</td>\n",
              "      <td>['Beat the butter and sugar together until smo...</td>\n",
              "      <td>https://www.bakingmad.com/recipes/basic-butter...</td>\n",
              "      <td>NaN</td>\n",
              "    </tr>\n",
              "    <tr>\n",
              "      <th>751</th>\n",
              "      <td>Red Velvet Cake</td>\n",
              "      <td>9</td>\n",
              "      <td>[{'main': ['120g Unsalted butter', '300g Silve...</td>\n",
              "      <td>['Preheat your oven to 180 C .', 'Line 2 x 20c...</td>\n",
              "      <td>https://www.bakingmad.com/recipes/red-velvet-cake</td>\n",
              "      <td>NaN</td>\n",
              "    </tr>\n",
              "    <tr>\n",
              "      <th>752</th>\n",
              "      <td>Whoopie Pies by Lorraine Pascale</td>\n",
              "      <td>6</td>\n",
              "      <td>[{'main': ['120ml Milk ', '190g Unrefined deme...</td>\n",
              "      <td>['Preheat the oven to 170 C .', 'Line 2 baking...</td>\n",
              "      <td>https://www.bakingmad.com/recipes/whoopie-pies</td>\n",
              "      <td>NaN</td>\n",
              "    </tr>\n",
              "    <tr>\n",
              "      <th>753</th>\n",
              "      <td>Toffee Sauce</td>\n",
              "      <td>40</td>\n",
              "      <td>[{'sauce': ['50ml Water', '300g Billington s U...</td>\n",
              "      <td>['To make the sauce use a large heavy bottomed...</td>\n",
              "      <td>https://www.bakingmad.com/recipes/toffee-sauce</td>\n",
              "      <td>NaN</td>\n",
              "    </tr>\n",
              "    <tr>\n",
              "      <th>754</th>\n",
              "      <td>Vanilla Swiss Roll by Nielsen-Massey</td>\n",
              "      <td>8</td>\n",
              "      <td>[{'sponge': ['3 Medium free range eggs', '75g ...</td>\n",
              "      <td>['Preheat the oven to 200 C .', 'Grease a 23cm...</td>\n",
              "      <td>https://www.bakingmad.com/recipes/vanilla-swis...</td>\n",
              "      <td>NaN</td>\n",
              "    </tr>\n",
              "  </tbody>\n",
              "</table>\n",
              "<p>755 rows × 6 columns</p>\n",
              "</div>"
            ],
            "text/plain": [
              "                                    Title  ...                                               Tags\n",
              "0                        Coconut Cupcakes  ...  ['Baking', 'Dessert', 'Mixer Recipes', 'Cupcak...\n",
              "1                  Go-To Vanilla Cupcakes  ...                   ['Baking', 'Dessert', 'Cupcake']\n",
              "2                        Vanilla Cupcakes  ...                         ['Easy Baking', 'Cupcake']\n",
              "3              Magnolia's Vanilla Cupcake  ...  ['Easy Dessert Recipes', 'Dessert', 'Easy Baki...\n",
              "4                     Lemon Lime Cupcakes  ...                             ['Cupcake', 'Dessert']\n",
              "..                                    ...  ...                                                ...\n",
              "750           Buttercream by Billington's  ...                                                NaN\n",
              "751                       Red Velvet Cake  ...                                                NaN\n",
              "752      Whoopie Pies by Lorraine Pascale  ...                                                NaN\n",
              "753                          Toffee Sauce  ...                                                NaN\n",
              "754  Vanilla Swiss Roll by Nielsen-Massey  ...                                                NaN\n",
              "\n",
              "[755 rows x 6 columns]"
            ]
          },
          "metadata": {
            "tags": []
          },
          "execution_count": 161
        }
      ]
    },
    {
      "cell_type": "code",
      "metadata": {
        "id": "Q-XrnY7wX1LS"
      },
      "source": [
        "from ast import literal_eval\n",
        "from collections import defaultdict\n",
        "# this is some spaghetti code\n",
        "def convert_to_dict (string):\n",
        "  ings = literal_eval(string)\n",
        "  dict_x = defaultdict(list)\n",
        "  for item in ings:\n",
        "    for key in item:\n",
        "      for ing in item[key]:\n",
        "        dict_x[key].append(ing)\n",
        "  return dict_x"
      ],
      "execution_count": 162,
      "outputs": []
    },
    {
      "cell_type": "code",
      "metadata": {
        "id": "Hlglcsx7aOU8"
      },
      "source": [
        "processed = df['Ingredients'].apply(convert_to_dict)"
      ],
      "execution_count": 163,
      "outputs": []
    },
    {
      "cell_type": "code",
      "metadata": {
        "id": "CMlu0ctSuE7r"
      },
      "source": [
        "df[\"processed_ingredients\"] = processed"
      ],
      "execution_count": 164,
      "outputs": []
    },
    {
      "cell_type": "code",
      "metadata": {
        "id": "lTa6s1pXtHGU"
      },
      "source": [
        "# contains a structural ingredient\n",
        "def is_structural (string):\n",
        "  keywords = [\"flour\", \"egg\"]\n",
        "  return any([substring in string.lower() for substring in keywords])\n",
        "\n",
        "# contains a sweetening ingredient\n",
        "def is_sweetener (string):\n",
        "  keywords = [\"sugar\", \"stevia\", \"agave\", \"honey\", \"maple syrup\", \"erythritol\", \"xylitol\"]\n",
        "  return any([substring in string.lower() for substring in keywords])\n",
        "\n",
        "# contains a sweetening ingredient\n",
        "def is_moistening (string):\n",
        "  # this is a terrible solution\n",
        "  if \"milk chocolate\" in string:\n",
        "    return False\n",
        "  keywords = [\"buttermilk\", \" milk \" \"heavy cream\", \"half and half\", \"half n half\", \"yogurt\", \"sour cream\", \"water\"]\n",
        "  return any([substring in string.lower() for substring in keywords])\n",
        "# contains a leavener ingredient\n",
        "def is_prep (string):\n",
        "  keywords = [\"cooking spray\", \"baking spray\", \"vegetable oil spray\", \" pam \", \"cupcake liners\", \"cake pans\", \"muffin tins\"]\n",
        "  return any([substring in string.lower() for substring in keywords])\n",
        "\n",
        "# contains a fat ingredient\n",
        "def is_fat (string):\n",
        "  keywords = [\"butter\", \"oil\", \"shortening\", \"Crisco\", \"lard\", \"cream cheese\"]\n",
        "  return any([substring in string.lower() for substring in keywords])\n",
        "\n",
        "# contains a leavener ingredient\n",
        "def is_leavener (string):\n",
        "  keywords = [\"baking soda\", \"baking powder\"]\n",
        "  return any([substring in string.lower() for substring in keywords])\n",
        "\n",
        "# contains a leavener ingredient\n",
        "def is_premade (string):\n",
        "  keywords = [\"cupcakes\", \"frosting\"]\n",
        "  return any([substring in string.lower() for substring in keywords])\n",
        "\n"
      ],
      "execution_count": 165,
      "outputs": []
    },
    {
      "cell_type": "code",
      "metadata": {
        "id": "noiqO4pSu4D4"
      },
      "source": [
        "def classify_ingredient(string):\n",
        "  if is_structural(string):\n",
        "    return {\"ingredient\": string, \"type\": \"structural\"}\n",
        "  if is_sweetener(string):\n",
        "    return {\"ingredient\": string, \"type\": \"sweetener\"}\n",
        "  if is_moistening(string):\n",
        "    return {\"ingredient\": string, \"type\": \"moistening\"}\n",
        "  if is_prep(string):\n",
        "    return {\"ingredient\": string, \"type\": \"prep\"}\n",
        "  if is_fat(string):\n",
        "    return {\"ingredient\": string, \"type\": \"fat\"}\n",
        "  if is_leavener(string):\n",
        "    return {\"ingredient\": string, \"type\": \"leavener\"}\n",
        "  if is_premade(string):\n",
        "    return {\"ingredient\": string, \"type\": \"premade\"}\n",
        "  return {\"ingredient\": string, \"type\": \"flavoring\"}"
      ],
      "execution_count": 166,
      "outputs": []
    },
    {
      "cell_type": "code",
      "metadata": {
        "id": "aXlXB7uL3XkQ"
      },
      "source": [
        "def classify_sub_recipe_ingredients (ings):\n",
        "  objs = []\n",
        "  for item in ings:\n",
        "    objs.append(classify_ingredient(item))\n",
        "  return objs\n",
        "    \n"
      ],
      "execution_count": 167,
      "outputs": []
    },
    {
      "cell_type": "code",
      "metadata": {
        "id": "dr0iMrqKsexv"
      },
      "source": [
        "def classify_ingredients (ings):\n",
        "  dict_x = defaultdict(list)\n",
        "  for key in ings:\n",
        "    dict_x[key].append(classify_sub_recipe_ingredients(ings[key]))\n",
        "  \n",
        "  return dict_x\n",
        "    \n"
      ],
      "execution_count": 168,
      "outputs": []
    },
    {
      "cell_type": "code",
      "metadata": {
        "colab": {
          "base_uri": "https://localhost:8080/"
        },
        "id": "-LfGcUHBo3Gz",
        "outputId": "1be3fb29-cf03-47ae-a713-3ce887fa0b3c"
      },
      "source": [
        "processed = df[\"processed_ingredients\"].apply(classify_ingredients)\n",
        "processed[0]"
      ],
      "execution_count": 169,
      "outputs": [
        {
          "output_type": "execute_result",
          "data": {
            "text/plain": [
              "defaultdict(list,\n",
              "            {'frosting': [[{'ingredient': '1 pound cream cheese at room temperature',\n",
              "                'type': 'fat'},\n",
              "               {'ingredient': '3/4 pound unsalted butter room temperature',\n",
              "                'type': 'fat'},\n",
              "               {'ingredient': '1 teaspoon pure vanilla extract',\n",
              "                'type': 'flavoring'},\n",
              "               {'ingredient': '1/2 teaspoon pure almond extract',\n",
              "                'type': 'flavoring'},\n",
              "               {'ingredient': '1 1/2 pounds confectioners sugar sifted',\n",
              "                'type': 'sweetener'}]],\n",
              "             'main': [[{'ingredient': '14 ounces sweetened shredded coconut',\n",
              "                'type': 'flavoring'},\n",
              "               {'ingredient': '1 cup buttermilk', 'type': 'moistening'},\n",
              "               {'ingredient': '1/2 teaspoon kosher salt', 'type': 'flavoring'},\n",
              "               {'ingredient': '1/2 teaspoon baking soda', 'type': 'leavener'},\n",
              "               {'ingredient': '1 teaspoon baking powder', 'type': 'leavener'},\n",
              "               {'ingredient': '3 cups flour', 'type': 'structural'},\n",
              "               {'ingredient': '1 1/2 teaspoons pure almond extract',\n",
              "                'type': 'flavoring'},\n",
              "               {'ingredient': '1 1/2 teaspoons pure vanilla extract',\n",
              "                'type': 'flavoring'},\n",
              "               {'ingredient': '5 extra large eggs at room temperature',\n",
              "                'type': 'structural'},\n",
              "               {'ingredient': '2 cups sugar', 'type': 'sweetener'},\n",
              "               {'ingredient': '3/4 pound unsalted butter room temperature',\n",
              "                'type': 'fat'}]]})"
            ]
          },
          "metadata": {
            "tags": []
          },
          "execution_count": 169
        }
      ]
    },
    {
      "cell_type": "code",
      "metadata": {
        "id": "X6w6_82S4vrA"
      },
      "source": [
        "df[\"processed_ingredients\"] = processed"
      ],
      "execution_count": 170,
      "outputs": []
    },
    {
      "cell_type": "code",
      "metadata": {
        "colab": {
          "base_uri": "https://localhost:8080/",
          "height": 17
        },
        "id": "FB7w6xeP5Gmc",
        "outputId": "bdd47da5-6560-4824-f2eb-cee3a94a52d8"
      },
      "source": [
        "df.to_csv('cupcakes_with_frosting_processed.csv') \n",
        "files.download('cupcakes_with_frosting_processed.csv') "
      ],
      "execution_count": 171,
      "outputs": [
        {
          "output_type": "display_data",
          "data": {
            "application/javascript": [
              "\n",
              "    async function download(id, filename, size) {\n",
              "      if (!google.colab.kernel.accessAllowed) {\n",
              "        return;\n",
              "      }\n",
              "      const div = document.createElement('div');\n",
              "      const label = document.createElement('label');\n",
              "      label.textContent = `Downloading \"${filename}\": `;\n",
              "      div.appendChild(label);\n",
              "      const progress = document.createElement('progress');\n",
              "      progress.max = size;\n",
              "      div.appendChild(progress);\n",
              "      document.body.appendChild(div);\n",
              "\n",
              "      const buffers = [];\n",
              "      let downloaded = 0;\n",
              "\n",
              "      const channel = await google.colab.kernel.comms.open(id);\n",
              "      // Send a message to notify the kernel that we're ready.\n",
              "      channel.send({})\n",
              "\n",
              "      for await (const message of channel.messages) {\n",
              "        // Send a message to notify the kernel that we're ready.\n",
              "        channel.send({})\n",
              "        if (message.buffers) {\n",
              "          for (const buffer of message.buffers) {\n",
              "            buffers.push(buffer);\n",
              "            downloaded += buffer.byteLength;\n",
              "            progress.value = downloaded;\n",
              "          }\n",
              "        }\n",
              "      }\n",
              "      const blob = new Blob(buffers, {type: 'application/binary'});\n",
              "      const a = document.createElement('a');\n",
              "      a.href = window.URL.createObjectURL(blob);\n",
              "      a.download = filename;\n",
              "      div.appendChild(a);\n",
              "      a.click();\n",
              "      div.remove();\n",
              "    }\n",
              "  "
            ],
            "text/plain": [
              "<IPython.core.display.Javascript object>"
            ]
          },
          "metadata": {
            "tags": []
          }
        },
        {
          "output_type": "display_data",
          "data": {
            "application/javascript": [
              "download(\"download_6d956034-631d-4c3f-b757-0dc825801cfb\", \"cupcakes_with_frosting_processed.csv\", 2395096)"
            ],
            "text/plain": [
              "<IPython.core.display.Javascript object>"
            ]
          },
          "metadata": {
            "tags": []
          }
        }
      ]
    }
  ]
}