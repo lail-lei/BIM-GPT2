{
  "nbformat": 4,
  "nbformat_minor": 0,
  "metadata": {
    "colab": {
      "name": "fast-keyword-extractor.ipynb",
      "provenance": [],
      "collapsed_sections": [],
      "authorship_tag": "ABX9TyPd8adsiFXzS01oqO8eVEOc",
      "include_colab_link": true
    },
    "kernelspec": {
      "display_name": "Python 3",
      "name": "python3"
    },
    "language_info": {
      "name": "python"
    }
  },
  "cells": [
    {
      "cell_type": "markdown",
      "metadata": {
        "id": "view-in-github",
        "colab_type": "text"
      },
      "source": [
        "<a href=\"https://colab.research.google.com/github/lail-lei/nlp-cupcakes/blob/main/fast_keyword_extractor.ipynb\" target=\"_parent\"><img src=\"https://colab.research.google.com/assets/colab-badge.svg\" alt=\"Open In Colab\"/></a>"
      ]
    },
    {
      "cell_type": "code",
      "metadata": {
        "colab": {
          "base_uri": "https://localhost:8080/"
        },
        "id": "ZVx-Wj0mjRkJ",
        "outputId": "bd50cb2b-0d15-47aa-f305-44785256ee50"
      },
      "source": [
        "import pandas as pd\n",
        "from sklearn.feature_extraction.text import TfidfVectorizer \n",
        "import math\n",
        "import re\n",
        "from textblob import TextBlob as tb\n",
        "import nltk\n",
        "nltk.download('punkt')\n",
        "from nltk.corpus import stopwords\n",
        "nltk.download('stopwords')\n",
        "nltk.download('wordnet')\n",
        "nltk.download('averaged_perceptron_tagger')\n",
        "from nltk.tokenize import word_tokenize\n",
        "from nltk.stem import WordNetLemmatizer\n",
        "from google.colab import files\n",
        "\n",
        "import io"
      ],
      "execution_count": 95,
      "outputs": [
        {
          "output_type": "stream",
          "text": [
            "[nltk_data] Downloading package punkt to /root/nltk_data...\n",
            "[nltk_data]   Package punkt is already up-to-date!\n",
            "[nltk_data] Downloading package stopwords to /root/nltk_data...\n",
            "[nltk_data]   Package stopwords is already up-to-date!\n",
            "[nltk_data] Downloading package wordnet to /root/nltk_data...\n",
            "[nltk_data]   Package wordnet is already up-to-date!\n",
            "[nltk_data] Downloading package averaged_perceptron_tagger to\n",
            "[nltk_data]     /root/nltk_data...\n",
            "[nltk_data]   Package averaged_perceptron_tagger is already up-to-\n",
            "[nltk_data]       date!\n"
          ],
          "name": "stdout"
        }
      ]
    },
    {
      "cell_type": "code",
      "metadata": {
        "id": "hOmGx1Rfj5xv"
      },
      "source": [
        "# our data from csv\n",
        "df = pd.read_csv('https://raw.githubusercontent.com/lail-lei/nlp-cupcakes/main/csvs/cupcakes_with_frosting.csv')"
      ],
      "execution_count": 101,
      "outputs": []
    },
    {
      "cell_type": "code",
      "metadata": {
        "colab": {
          "base_uri": "https://localhost:8080/",
          "height": 861
        },
        "id": "_nw_965TlOrC",
        "outputId": "b09b9f8b-0fcb-4a2b-ce09-5ed12c1d4c4b"
      },
      "source": [
        "reduced_df = df.iloc[:, 0:6]\n",
        "reduced_df"
      ],
      "execution_count": 102,
      "outputs": [
        {
          "output_type": "execute_result",
          "data": {
            "text/html": [
              "<div>\n",
              "<style scoped>\n",
              "    .dataframe tbody tr th:only-of-type {\n",
              "        vertical-align: middle;\n",
              "    }\n",
              "\n",
              "    .dataframe tbody tr th {\n",
              "        vertical-align: top;\n",
              "    }\n",
              "\n",
              "    .dataframe thead th {\n",
              "        text-align: right;\n",
              "    }\n",
              "</style>\n",
              "<table border=\"1\" class=\"dataframe\">\n",
              "  <thead>\n",
              "    <tr style=\"text-align: right;\">\n",
              "      <th></th>\n",
              "      <th>Title</th>\n",
              "      <th>Yield</th>\n",
              "      <th>Ingredients</th>\n",
              "      <th>Steps</th>\n",
              "      <th>URL</th>\n",
              "      <th>Tags</th>\n",
              "    </tr>\n",
              "  </thead>\n",
              "  <tbody>\n",
              "    <tr>\n",
              "      <th>0</th>\n",
              "      <td>Coconut Cupcakes</td>\n",
              "      <td>18 to 20 cupcakes</td>\n",
              "      <td>[{'frosting': ['1 pound cream cheese at room t...</td>\n",
              "      <td>['Preheat the oven to 325 degrees F. In the bo...</td>\n",
              "      <td>https://www.foodnetwork.com/recipes/ina-garten...</td>\n",
              "      <td>['Baking', 'Dessert', 'Mixer Recipes', 'Cupcak...</td>\n",
              "    </tr>\n",
              "    <tr>\n",
              "      <th>1</th>\n",
              "      <td>Go-To Vanilla Cupcakes</td>\n",
              "      <td>12 cupcakes (or about 48 mini cupcakes)</td>\n",
              "      <td>[{'main': ['1 1/2 cups all purpose flour', '1 ...</td>\n",
              "      <td>['Preheat the oven to 350 degrees F and positi...</td>\n",
              "      <td>https://www.foodnetwork.com/recipes/food-netwo...</td>\n",
              "      <td>['Baking', 'Dessert', 'Cupcake']</td>\n",
              "    </tr>\n",
              "    <tr>\n",
              "      <th>2</th>\n",
              "      <td>Vanilla Cupcakes</td>\n",
              "      <td>12 cupcakes</td>\n",
              "      <td>[{'frosting': ['4 large egg whites', '3/4 cup ...</td>\n",
              "      <td>['Preheat the oven to 350 degrees F. Line a 12...</td>\n",
              "      <td>https://www.foodnetwork.com/recipes/food-netwo...</td>\n",
              "      <td>['Easy Baking', 'Cupcake']</td>\n",
              "    </tr>\n",
              "    <tr>\n",
              "      <th>3</th>\n",
              "      <td>Magnolia's Vanilla Cupcake</td>\n",
              "      <td>24 cupcakes</td>\n",
              "      <td>[{'main': ['1 1/2 cups self rising flour', '1 ...</td>\n",
              "      <td>['Preheat oven to 350 degrees F. Line 2 muffin...</td>\n",
              "      <td>https://www.foodnetwork.com/recipes/magnolias-...</td>\n",
              "      <td>['Easy Dessert Recipes', 'Dessert', 'Easy Baki...</td>\n",
              "    </tr>\n",
              "    <tr>\n",
              "      <th>4</th>\n",
              "      <td>Lemon Lime Cupcakes</td>\n",
              "      <td>48 mini cupcakes</td>\n",
              "      <td>[{'main': ['1 3/4 cups all purpose flour', '1/...</td>\n",
              "      <td>['For the batter Preheat the oven to 350 degre...</td>\n",
              "      <td>https://www.foodnetwork.com/recipes/ree-drummo...</td>\n",
              "      <td>['Cupcake', 'Dessert']</td>\n",
              "    </tr>\n",
              "    <tr>\n",
              "      <th>...</th>\n",
              "      <td>...</td>\n",
              "      <td>...</td>\n",
              "      <td>...</td>\n",
              "      <td>...</td>\n",
              "      <td>...</td>\n",
              "      <td>...</td>\n",
              "    </tr>\n",
              "    <tr>\n",
              "      <th>750</th>\n",
              "      <td>Buttercream by Billington's</td>\n",
              "      <td>12</td>\n",
              "      <td>[{'main': ['50g Unsalted butter ', '200g Billi...</td>\n",
              "      <td>['Beat the butter and sugar together until smo...</td>\n",
              "      <td>https://www.bakingmad.com/recipes/basic-butter...</td>\n",
              "      <td>NaN</td>\n",
              "    </tr>\n",
              "    <tr>\n",
              "      <th>751</th>\n",
              "      <td>Red Velvet Cake</td>\n",
              "      <td>9</td>\n",
              "      <td>[{'main': ['120g Unsalted butter', '300g Silve...</td>\n",
              "      <td>['Preheat your oven to 180 C .', 'Line 2 x 20c...</td>\n",
              "      <td>https://www.bakingmad.com/recipes/red-velvet-cake</td>\n",
              "      <td>NaN</td>\n",
              "    </tr>\n",
              "    <tr>\n",
              "      <th>752</th>\n",
              "      <td>Whoopie Pies by Lorraine Pascale</td>\n",
              "      <td>6</td>\n",
              "      <td>[{'main': ['120ml Milk ', '190g Unrefined deme...</td>\n",
              "      <td>['Preheat the oven to 170 C .', 'Line 2 baking...</td>\n",
              "      <td>https://www.bakingmad.com/recipes/whoopie-pies</td>\n",
              "      <td>NaN</td>\n",
              "    </tr>\n",
              "    <tr>\n",
              "      <th>753</th>\n",
              "      <td>Toffee Sauce</td>\n",
              "      <td>40</td>\n",
              "      <td>[{'sauce': ['50ml Water', '300g Billington s U...</td>\n",
              "      <td>['To make the sauce use a large heavy bottomed...</td>\n",
              "      <td>https://www.bakingmad.com/recipes/toffee-sauce</td>\n",
              "      <td>NaN</td>\n",
              "    </tr>\n",
              "    <tr>\n",
              "      <th>754</th>\n",
              "      <td>Vanilla Swiss Roll by Nielsen-Massey</td>\n",
              "      <td>8</td>\n",
              "      <td>[{'sponge': ['3 Medium free range eggs', '75g ...</td>\n",
              "      <td>['Preheat the oven to 200 C .', 'Grease a 23cm...</td>\n",
              "      <td>https://www.bakingmad.com/recipes/vanilla-swis...</td>\n",
              "      <td>NaN</td>\n",
              "    </tr>\n",
              "  </tbody>\n",
              "</table>\n",
              "<p>755 rows × 6 columns</p>\n",
              "</div>"
            ],
            "text/plain": [
              "                                    Title  ...                                               Tags\n",
              "0                        Coconut Cupcakes  ...  ['Baking', 'Dessert', 'Mixer Recipes', 'Cupcak...\n",
              "1                  Go-To Vanilla Cupcakes  ...                   ['Baking', 'Dessert', 'Cupcake']\n",
              "2                        Vanilla Cupcakes  ...                         ['Easy Baking', 'Cupcake']\n",
              "3              Magnolia's Vanilla Cupcake  ...  ['Easy Dessert Recipes', 'Dessert', 'Easy Baki...\n",
              "4                     Lemon Lime Cupcakes  ...                             ['Cupcake', 'Dessert']\n",
              "..                                    ...  ...                                                ...\n",
              "750           Buttercream by Billington's  ...                                                NaN\n",
              "751                       Red Velvet Cake  ...                                                NaN\n",
              "752      Whoopie Pies by Lorraine Pascale  ...                                                NaN\n",
              "753                          Toffee Sauce  ...                                                NaN\n",
              "754  Vanilla Swiss Roll by Nielsen-Massey  ...                                                NaN\n",
              "\n",
              "[755 rows x 6 columns]"
            ]
          },
          "metadata": {
            "tags": []
          },
          "execution_count": 102
        }
      ]
    },
    {
      "cell_type": "code",
      "metadata": {
        "id": "DkKXPVveoKfO"
      },
      "source": [
        "def process (text):\n",
        "  all_stopwords = stopwords.words('english')\n",
        " \n",
        "  recipe_specific = [\"title\", \"recipe\",\"stick\", \"www\", \"com\", \"http\", \"tag\", \"mixer\", \"oven\", \"liner\", \"halfway\", \"minute\", \"step\", \"tag\", \"tester\", \"preheat\", \"rack\", \"pan\", \"tin\", \"mini\", \"bowl\", \"medium\", \"large\", \"cm\", \"small\", \"ounce\", \"gina\", \"betty crocker\", \"baking\", \"temperature\", \"according\", \"mug\", \"mix\", \"nielsen massey\", \"nielsen\", \"massey\", \"beat\", \"whisk\", \"set\", \"aside\", \"every\", \"each\", \"main\", \"whisk\", \"room\", \"set aside\", \"unnamed\", \"beat\", \"ingredient\", \"ingredients\", \"amount\", \"unit\", \"type\", \"text\", \"teaspoon\", \"teaspoons\", \"tsp\", \"cup\", \"cups\", \"tablespoon\", \"tablespoons\", \"tbsp\", \"tb\", \n",
        "                     \"grams\", \"gram\", \"g\", \"gm\", \"gms\", \"pounds\", \"lbs\", \"pounds\", \"pound\", \"kilogram\", \"kg\", \"kilograms\", \"kgs\", \"kilo\", \"kilos\", \"milliliter\", \"ml\", \n",
        "                     \"pinch\", \"pinches\", \"dash\", \"dashes\", \"NaN\", \"null\", \"steps\", \"tags\", \"description\", \"f\", \"c\", \"yield\", \"tin\", \"muffin tin\", \"billington\", \"nielson massey\", \"allinson\"]\n",
        "  all_stopwords.extend(recipe_specific)\n",
        "  text = re.sub(r\"[^a-zA-Z]+\", ' ', text).lower().strip()\n",
        "  tokens = word_tokenize(text)\n",
        "  lemmatizer = WordNetLemmatizer()\n",
        "  lemmatized = [lemmatizer.lemmatize(w) for w in tokens]\n",
        "  removing_custom_words = [words for words in lemmatized if not words in all_stopwords]\n",
        "  pos_tagged = nltk.pos_tag(removing_custom_words)\n",
        "  # remove all words that are not nouns or adjectives\n",
        "  nouns = list(filter(lambda x:x[1]=='NN',pos_tagged))\n",
        "  adj = list(filter(lambda x:x[1]=='JJ',pos_tagged))\n",
        "  nouns = [x[0] for x in nouns]\n",
        "  adj = [x[0] for x in adj]\n",
        "  return \" \".join([*nouns, *adj])"
      ],
      "execution_count": 103,
      "outputs": []
    },
    {
      "cell_type": "code",
      "metadata": {
        "id": "plPB0EJ4k94F",
        "colab": {
          "base_uri": "https://localhost:8080/"
        },
        "outputId": "712dcea5-d438-4a59-f504-9234dbed6772"
      },
      "source": [
        "reduced_df[\"processed\"] = reduced_df.apply(lambda x: process(x.to_json()), axis=1)"
      ],
      "execution_count": 104,
      "outputs": [
        {
          "output_type": "stream",
          "text": [
            "/usr/local/lib/python3.7/dist-packages/ipykernel_launcher.py:1: SettingWithCopyWarning: \n",
            "A value is trying to be set on a copy of a slice from a DataFrame.\n",
            "Try using .loc[row_indexer,col_indexer] = value instead\n",
            "\n",
            "See the caveats in the documentation: https://pandas.pydata.org/pandas-docs/stable/user_guide/indexing.html#returning-a-view-versus-a-copy\n",
            "  \"\"\"Entry point for launching an IPython kernel.\n"
          ],
          "name": "stderr"
        }
      ]
    },
    {
      "cell_type": "code",
      "metadata": {
        "colab": {
          "base_uri": "https://localhost:8080/",
          "height": 86
        },
        "id": "Kt1nLGnIn-om",
        "outputId": "0347368e-b4ea-458e-b9db-72d054095cc3"
      },
      "source": [
        "reduced_df[\"processed\"][1]"
      ],
      "execution_count": 105,
      "outputs": [
        {
          "output_type": "execute_result",
          "data": {
            "application/vnd.google.colaboratory.intrinsic+json": {
              "type": "string"
            },
            "text/plain": [
              "'vanilla cupcake cupcake powder fine salt egg sugar butter vanilla extract milk frosting position line standard muffin muffin powder salt egg sugar light butter vanilla mixture milk mixture care batter batter cake center cupcake time cupcake cupcake cool decorate foodnetwork food network kitchen cupcake flour unsalted pure favorite degree flour electric add half flour flour come clean standard cool frost url vanilla'"
            ]
          },
          "metadata": {
            "tags": []
          },
          "execution_count": 105
        }
      ]
    },
    {
      "cell_type": "code",
      "metadata": {
        "id": "S-sSANPhot61"
      },
      "source": [
        "docs = reduced_df[\"processed\"]"
      ],
      "execution_count": 108,
      "outputs": []
    },
    {
      "cell_type": "code",
      "metadata": {
        "id": "FpaC2tscTFs1"
      },
      "source": [
        "# sklearn's tfidf vectorizer to create matrix\n",
        "tfIdfVectorizer = TfidfVectorizer(use_idf=True)\n",
        "tfIdf = tfIdfVectorizer.fit_transform(docs)\n",
        "\n",
        "# array to hold keywords\n",
        "keywords = []\n",
        "\n",
        "# get keywords for each document\n",
        "for i in range(755):\n",
        "  matrix = pd.DataFrame(tfIdf[i].T.todense(), index=tfIdfVectorizer.get_feature_names(), columns=[\"TF-IDF\"])\n",
        "  matrix = matrix.sort_values('TF-IDF', ascending=False)\n",
        "  matrix = matrix[:5]\n",
        "  keywords.append([*matrix.index])\n",
        " "
      ],
      "execution_count": 109,
      "outputs": []
    },
    {
      "cell_type": "code",
      "metadata": {
        "id": "YA1v1vqnhM9w"
      },
      "source": [
        "reduced_df[\"keywords\"] = keywords"
      ],
      "execution_count": 110,
      "outputs": []
    },
    {
      "cell_type": "code",
      "metadata": {
        "colab": {
          "base_uri": "https://localhost:8080/",
          "height": 17
        },
        "id": "1YvzrLNdk_P2",
        "outputId": "25b3a1d8-3a78-4eac-cf87-66d30b8f6416"
      },
      "source": [
        "reduced_df.to_csv('cupcakes_with_frosting_keywords.csv') \n",
        "files.download('cupcakes_with_frosting_keywords.csv')"
      ],
      "execution_count": 111,
      "outputs": [
        {
          "output_type": "display_data",
          "data": {
            "application/javascript": [
              "\n",
              "    async function download(id, filename, size) {\n",
              "      if (!google.colab.kernel.accessAllowed) {\n",
              "        return;\n",
              "      }\n",
              "      const div = document.createElement('div');\n",
              "      const label = document.createElement('label');\n",
              "      label.textContent = `Downloading \"${filename}\": `;\n",
              "      div.appendChild(label);\n",
              "      const progress = document.createElement('progress');\n",
              "      progress.max = size;\n",
              "      div.appendChild(progress);\n",
              "      document.body.appendChild(div);\n",
              "\n",
              "      const buffers = [];\n",
              "      let downloaded = 0;\n",
              "\n",
              "      const channel = await google.colab.kernel.comms.open(id);\n",
              "      // Send a message to notify the kernel that we're ready.\n",
              "      channel.send({})\n",
              "\n",
              "      for await (const message of channel.messages) {\n",
              "        // Send a message to notify the kernel that we're ready.\n",
              "        channel.send({})\n",
              "        if (message.buffers) {\n",
              "          for (const buffer of message.buffers) {\n",
              "            buffers.push(buffer);\n",
              "            downloaded += buffer.byteLength;\n",
              "            progress.value = downloaded;\n",
              "          }\n",
              "        }\n",
              "      }\n",
              "      const blob = new Blob(buffers, {type: 'application/binary'});\n",
              "      const a = document.createElement('a');\n",
              "      a.href = window.URL.createObjectURL(blob);\n",
              "      a.download = filename;\n",
              "      div.appendChild(a);\n",
              "      a.click();\n",
              "      div.remove();\n",
              "    }\n",
              "  "
            ],
            "text/plain": [
              "<IPython.core.display.Javascript object>"
            ]
          },
          "metadata": {
            "tags": []
          }
        },
        {
          "output_type": "display_data",
          "data": {
            "application/javascript": [
              "download(\"download_55faa35c-4fb4-4ab9-9780-d77457633cb9\", \"cupcakes_with_frosting_keywords.csv\", 2260367)"
            ],
            "text/plain": [
              "<IPython.core.display.Javascript object>"
            ]
          },
          "metadata": {
            "tags": []
          }
        }
      ]
    }
  ]
}