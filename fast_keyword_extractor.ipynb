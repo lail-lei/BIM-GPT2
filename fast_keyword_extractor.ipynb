{
  "nbformat": 4,
  "nbformat_minor": 0,
  "metadata": {
    "colab": {
      "name": "fast-keyword-extractor.ipynb",
      "provenance": [],
      "authorship_tag": "ABX9TyMAm+uqDsnSrDs/ZYdX28CK",
      "include_colab_link": true
    },
    "kernelspec": {
      "display_name": "Python 3",
      "name": "python3"
    },
    "language_info": {
      "name": "python"
    }
  },
  "cells": [
    {
      "cell_type": "markdown",
      "metadata": {
        "id": "view-in-github",
        "colab_type": "text"
      },
      "source": [
        "<a href=\"https://colab.research.google.com/github/lail-lei/nlp-cupcakes/blob/main/fast_keyword_extractor.ipynb\" target=\"_parent\"><img src=\"https://colab.research.google.com/assets/colab-badge.svg\" alt=\"Open In Colab\"/></a>"
      ]
    },
    {
      "cell_type": "code",
      "metadata": {
        "colab": {
          "base_uri": "https://localhost:8080/"
        },
        "id": "ZVx-Wj0mjRkJ",
        "outputId": "3e3e90d2-3710-4509-9edd-a74e8a36374e"
      },
      "source": [
        "import pandas as pd\n",
        "from sklearn.feature_extraction.text import TfidfVectorizer \n",
        "import math\n",
        "import re\n",
        "from textblob import TextBlob as tb\n",
        "import nltk\n",
        "nltk.download('punkt')\n",
        "from nltk.corpus import stopwords\n",
        "nltk.download('stopwords')\n",
        "nltk.download('wordnet')\n",
        "from nltk.tokenize import word_tokenize\n",
        "from nltk.stem import WordNetLemmatizer\n",
        "from google.colab import files"
      ],
      "execution_count": 166,
      "outputs": [
        {
          "output_type": "stream",
          "text": [
            "[nltk_data] Downloading package punkt to /root/nltk_data...\n",
            "[nltk_data]   Package punkt is already up-to-date!\n",
            "[nltk_data] Downloading package stopwords to /root/nltk_data...\n",
            "[nltk_data]   Package stopwords is already up-to-date!\n",
            "[nltk_data] Downloading package wordnet to /root/nltk_data...\n",
            "[nltk_data]   Package wordnet is already up-to-date!\n"
          ],
          "name": "stdout"
        }
      ]
    },
    {
      "cell_type": "code",
      "metadata": {
        "id": "hOmGx1Rfj5xv"
      },
      "source": [
        "# our data from csv\n",
        "df = pd.read_csv('https://raw.githubusercontent.com/lail-lei/nlp-cupcakes/main/cupcakes.csv')"
      ],
      "execution_count": 167,
      "outputs": []
    },
    {
      "cell_type": "code",
      "metadata": {
        "colab": {
          "base_uri": "https://localhost:8080/",
          "height": 623
        },
        "id": "_nw_965TlOrC",
        "outputId": "20dbe24c-5454-4f18-ee3c-6faade878547"
      },
      "source": [
        "df = df.iloc[:, 0:7]\n",
        "df"
      ],
      "execution_count": 168,
      "outputs": [
        {
          "output_type": "execute_result",
          "data": {
            "text/html": [
              "<div>\n",
              "<style scoped>\n",
              "    .dataframe tbody tr th:only-of-type {\n",
              "        vertical-align: middle;\n",
              "    }\n",
              "\n",
              "    .dataframe tbody tr th {\n",
              "        vertical-align: top;\n",
              "    }\n",
              "\n",
              "    .dataframe thead th {\n",
              "        text-align: right;\n",
              "    }\n",
              "</style>\n",
              "<table border=\"1\" class=\"dataframe\">\n",
              "  <thead>\n",
              "    <tr style=\"text-align: right;\">\n",
              "      <th></th>\n",
              "      <th>Title</th>\n",
              "      <th>Yield</th>\n",
              "      <th>Ingredients</th>\n",
              "      <th>Steps</th>\n",
              "      <th>URL</th>\n",
              "      <th>Tags</th>\n",
              "      <th>Description</th>\n",
              "    </tr>\n",
              "  </thead>\n",
              "  <tbody>\n",
              "    <tr>\n",
              "      <th>0</th>\n",
              "      <td>Baileys &amp; Coffee Cupcakes</td>\n",
              "      <td>14 cupcakes</td>\n",
              "      <td>[{'amount': '1', 'text': '1 and 3/4 cups cake ...</td>\n",
              "      <td>['Preheat the oven to 350 F (177 C).', 'Line a...</td>\n",
              "      <td>https://sallysbakingaddiction.com/baileys-coff...</td>\n",
              "      <td>[' cupcakes', ' desserts', ' st patricks day',...</td>\n",
              "      <td>NaN</td>\n",
              "    </tr>\n",
              "    <tr>\n",
              "      <th>1</th>\n",
              "      <td>Guinness Chocolate Cupcakes with Mocha Guinnes...</td>\n",
              "      <td>16 cupcakes</td>\n",
              "      <td>[{'amount': '1', 'text': 'one 12 ounce bottle ...</td>\n",
              "      <td>['In a small saucepan, bring the Guinness to a...</td>\n",
              "      <td>https://sallysbakingaddiction.com/guinness-cho...</td>\n",
              "      <td>[' cupcakes', ' desserts', ' st patricks day',...</td>\n",
              "      <td>NaN</td>\n",
              "    </tr>\n",
              "    <tr>\n",
              "      <th>2</th>\n",
              "      <td>Molten Cookie Dough Cupcakes</td>\n",
              "      <td>12 cupcakes</td>\n",
              "      <td>[{'amount': '2', 'text': '2 and 1/4 cups heat ...</td>\n",
              "      <td>[' In a medium bowl, whisk the heat treated fl...</td>\n",
              "      <td>https://sallysbakingaddiction.com/molten-cooki...</td>\n",
              "      <td>[' cupcakes', ' desserts', ' all purpose flour...</td>\n",
              "      <td>NaN</td>\n",
              "    </tr>\n",
              "    <tr>\n",
              "      <th>3</th>\n",
              "      <td>Yellow Birthday Cupcakes (Recipe Solved!)</td>\n",
              "      <td>12-14 cupcakes</td>\n",
              "      <td>[{'text': '1 and 3/4 cups cake flour '}, {'tex...</td>\n",
              "      <td>['Preheat the oven to 350 F (177 C).', 'Line a...</td>\n",
              "      <td>https://sallysbakingaddiction.com/yellow-birth...</td>\n",
              "      <td>[' birthday', ' cupcakes', ' seasonal', ' butt...</td>\n",
              "      <td>NaN</td>\n",
              "    </tr>\n",
              "    <tr>\n",
              "      <th>4</th>\n",
              "      <td>Confetti Sprinkle Cupcakes</td>\n",
              "      <td>14 cupcakes</td>\n",
              "      <td>[{'amount': '1', 'text': '1 and 3/4 cups cake ...</td>\n",
              "      <td>['Preheat the oven to 350 F (177 C).', 'Line a...</td>\n",
              "      <td>https://sallysbakingaddiction.com/confetti-cup...</td>\n",
              "      <td>[' birthday', ' cupcakes', ' spring recipes', ...</td>\n",
              "      <td>NaN</td>\n",
              "    </tr>\n",
              "    <tr>\n",
              "      <th>...</th>\n",
              "      <td>...</td>\n",
              "      <td>...</td>\n",
              "      <td>...</td>\n",
              "      <td>...</td>\n",
              "      <td>...</td>\n",
              "      <td>...</td>\n",
              "      <td>...</td>\n",
              "    </tr>\n",
              "    <tr>\n",
              "      <th>1552</th>\n",
              "      <td>Wheat Germ and Ginger, Wasabi Cream, and Tuna ...</td>\n",
              "      <td>12 cupcakes</td>\n",
              "      <td>[{'text': '3/4 cup all purpose flour'}, {'text...</td>\n",
              "      <td>['For the cupcakes Preheat the oven to 325 deg...</td>\n",
              "      <td>https://www.foodnetwork.com/recipes/wheat-germ...</td>\n",
              "      <td>['Mixer Recipes', 'Cupcake', 'Sugar', 'Fish', ...</td>\n",
              "      <td>NaN</td>\n",
              "    </tr>\n",
              "    <tr>\n",
              "      <th>1553</th>\n",
              "      <td>Bunny Face</td>\n",
              "      <td>1 cupcake</td>\n",
              "      <td>[{'text': '1 Vanilla Cupcake recipe follows'},...</td>\n",
              "      <td>['Dip the surface of the cupcake into the Deep...</td>\n",
              "      <td>https://www.foodnetwork.com/recipes/bunny-face...</td>\n",
              "      <td>['Easy Dessert Recipes', 'Dessert', 'Easter Cu...</td>\n",
              "      <td>NaN</td>\n",
              "    </tr>\n",
              "    <tr>\n",
              "      <th>1554</th>\n",
              "      <td>Winning Recipe Mini Coconut Cupcakes with Popp...</td>\n",
              "      <td>48 cupcakes</td>\n",
              "      <td>[{'text': '1 cup butter'}, {'text': '1 cup sug...</td>\n",
              "      <td>['For the toffee Line a baking sheet with a si...</td>\n",
              "      <td>https://www.foodnetwork.com/recipes/winning-re...</td>\n",
              "      <td>['Cupcake', 'Fruit', 'Raisin Recipes', 'Coconu...</td>\n",
              "      <td>NaN</td>\n",
              "    </tr>\n",
              "    <tr>\n",
              "      <th>1555</th>\n",
              "      <td>South Beach Wine and Food Festival Cupcakes</td>\n",
              "      <td>12 cupcakes</td>\n",
              "      <td>[{'text': '4 ounces red wine such as cabernet ...</td>\n",
              "      <td>['For the cupcakes Preheat the oven to 350 deg...</td>\n",
              "      <td>https://www.foodnetwork.com/recipes/south-beac...</td>\n",
              "      <td>['Chocolate Cupcake', 'Cupcake', 'Baking', 'De...</td>\n",
              "      <td>NaN</td>\n",
              "    </tr>\n",
              "    <tr>\n",
              "      <th>1556</th>\n",
              "      <td>No-Bake Daffodil Cake</td>\n",
              "      <td>8 servings</td>\n",
              "      <td>[{'text': '1 bakery bought half sheet cake fro...</td>\n",
              "      <td>['Place round cake in the center of sheet cake...</td>\n",
              "      <td>https://www.foodnetwork.com/recipes/sandra-lee...</td>\n",
              "      <td>['Easy Dessert Recipes', 'Dessert', 'Easy Baki...</td>\n",
              "      <td>NaN</td>\n",
              "    </tr>\n",
              "  </tbody>\n",
              "</table>\n",
              "<p>1557 rows × 7 columns</p>\n",
              "</div>"
            ],
            "text/plain": [
              "                                                  Title  ... Description\n",
              "0                             Baileys & Coffee Cupcakes  ...         NaN\n",
              "1     Guinness Chocolate Cupcakes with Mocha Guinnes...  ...         NaN\n",
              "2                          Molten Cookie Dough Cupcakes  ...         NaN\n",
              "3             Yellow Birthday Cupcakes (Recipe Solved!)  ...         NaN\n",
              "4                            Confetti Sprinkle Cupcakes  ...         NaN\n",
              "...                                                 ...  ...         ...\n",
              "1552  Wheat Germ and Ginger, Wasabi Cream, and Tuna ...  ...         NaN\n",
              "1553                                         Bunny Face  ...         NaN\n",
              "1554  Winning Recipe Mini Coconut Cupcakes with Popp...  ...         NaN\n",
              "1555        South Beach Wine and Food Festival Cupcakes  ...         NaN\n",
              "1556                              No-Bake Daffodil Cake  ...         NaN\n",
              "\n",
              "[1557 rows x 7 columns]"
            ]
          },
          "metadata": {
            "tags": []
          },
          "execution_count": 168
        }
      ]
    },
    {
      "cell_type": "code",
      "metadata": {
        "id": "DkKXPVveoKfO"
      },
      "source": [
        "def process (text):\n",
        "  all_stopwords = stopwords.words('english')\n",
        "  # recipe_specific = [ 'amount', 'unit', 'title', 'yield', 'ingredients', 'text', 'steps', 'url', 'description', 'tags', \"tsp\", 'cup', 'cups', 'tbsp', \"f\", \"c\", \"( c )\"\n",
        "  #                    \"teaspoon\", 'teaspoons', 'tablespoon', 'tablespoons', 'lbs', 'grams', 'gm', \"gms\", \"kg\", \"kilograms\", \"kilo\", \"kgs\"]\n",
        "\n",
        "  recipe_specific = [\"title\", \"ingredients\", \"amount\", \"unit\", \"text\", \"teaspoon\", \"teaspoons\", \"tsp\", \"cup\", \"cups\", \"tablespoon\", \"tablespoons\", \"tbsp\", \"tb\", \n",
        "                     \"grams\", \"gram\", \"g\", \"gm\", \"gms\", \"pounds\", \"lbs\", \"pounds\", \"pound\", \"kilogram\", \"kg\", \"kilograms\", \"kgs\", \"kilo\", \"kilos\", \"milliliter\", \"ml\", \n",
        "                     \"pinch\", \"pinches\", \"dash\", \"dashes\", \"steps\", \"tags\", \"description\", \"f\", \"c\", \"yield\", \"tin\", \"muffin tin\", \"billington\", \"nielson massey\", \"allinson\"]\n",
        "  all_stopwords.extend(recipe_specific)\n",
        "  text = re.sub(r\"[^a-zA-Z]+\", ' ', text).lower().strip()\n",
        "  tokens = word_tokenize(text)\n",
        "  lemmatizer = WordNetLemmatizer()\n",
        "  lemmatized = [lemmatizer.lemmatize(w) for w in tokens]\n",
        "  removing_custom_words = [words for words in lemmatized if not words in all_stopwords]\n",
        "  return \" \".join(removing_custom_words)"
      ],
      "execution_count": 169,
      "outputs": []
    },
    {
      "cell_type": "code",
      "metadata": {
        "id": "plPB0EJ4k94F"
      },
      "source": [
        "df[\"processed\"] = df.apply(lambda x: process(x.to_json()), axis=1)"
      ],
      "execution_count": 170,
      "outputs": []
    },
    {
      "cell_type": "code",
      "metadata": {
        "colab": {
          "base_uri": "https://localhost:8080/",
          "height": 137
        },
        "id": "Kt1nLGnIn-om",
        "outputId": "ed33f210-7993-4da3-fb21-5d09aa79e322"
      },
      "source": [
        "df[\"processed\"][700]"
      ],
      "execution_count": 171,
      "outputs": [
        {
          "output_type": "execute_result",
          "data": {
            "application/vnd.google.colaboratory.intrinsic+json": {
              "type": "string"
            },
            "text/plain": [
              "'apple gingerbread bran muffin muffin ingredient oat bran plain nonfat greek yogurt nonfat milk vanilla extract whole wheat gluten free flour ground ginger ground cinnamon baking powder salt coconut oil unsalted butter melted cooled slightly large egg room temperature pure maple syrup molasses diced apple step preheat oven lightly coat muffin nonstick cooking spray medium bowl stir together oat bran yogurt milk vanilla whisk together flour ginger cinnamon baking powder salt separate bowl third bowl whisk together coconut oil egg stir maple syrup molasses thoroughly mix bran mixture add flour mixture stirring incorporated fold diced apple divide batter prepared muffin bake minute toothpick inserted center come clean cool pan minute carefully turning onto wire rack url http amyshealthybaking com blog apple gingerbread bran muffin tag baked bliss breakfast clean eating fruit gluten free low fat muffin vegetarian apple autumn baking bran bran muffin breakfast brunch clean eating fall food fruit gingerbread gluten free greek yogurt healthy holiday low fat muffin oat bran recipe recipe vegetarian whole wheat winter easy recipe tender bran muffin u ever try u perfect chilly morning warm cozy spice fresh fruit leftover stay fresh least day stored airtight container refrigerator reheat individual muffin microwave second'"
            ]
          },
          "metadata": {
            "tags": []
          },
          "execution_count": 171
        }
      ]
    },
    {
      "cell_type": "code",
      "metadata": {
        "id": "S-sSANPhot61"
      },
      "source": [
        "docs = df[\"processed\"]"
      ],
      "execution_count": 172,
      "outputs": []
    },
    {
      "cell_type": "code",
      "metadata": {
        "id": "FpaC2tscTFs1"
      },
      "source": [
        "# sklearn's tfidf vectorizer to create matrix\n",
        "tfIdfVectorizer = TfidfVectorizer(use_idf=True)\n",
        "tfIdf = tfIdfVectorizer.fit_transform(docs)\n",
        "\n",
        "# array to hold keywords\n",
        "keywords = []\n",
        "\n",
        "# get keywords for each document\n",
        "for i in range(1557):\n",
        "  matrix = pd.DataFrame(tfIdf[i].T.todense(), index=tfIdfVectorizer.get_feature_names(), columns=[\"TF-IDF\"])\n",
        "  matrix = matrix.sort_values('TF-IDF', ascending=False)\n",
        "  matrix = matrix[:5]\n",
        "  keywords.append([*matrix.index])\n",
        " "
      ],
      "execution_count": 173,
      "outputs": []
    },
    {
      "cell_type": "code",
      "metadata": {
        "id": "YA1v1vqnhM9w"
      },
      "source": [
        "df[\"keywords\"] = keywords"
      ],
      "execution_count": 174,
      "outputs": []
    },
    {
      "cell_type": "code",
      "metadata": {
        "colab": {
          "base_uri": "https://localhost:8080/",
          "height": 17
        },
        "id": "1YvzrLNdk_P2",
        "outputId": "2add1c6b-1696-4363-f516-2276f5e4bbf8"
      },
      "source": [
        "df.to_csv('cupcakes_keywords.csv') \n",
        "files.download('cupcakes_keywords.csv')"
      ],
      "execution_count": 175,
      "outputs": [
        {
          "output_type": "display_data",
          "data": {
            "application/javascript": [
              "\n",
              "    async function download(id, filename, size) {\n",
              "      if (!google.colab.kernel.accessAllowed) {\n",
              "        return;\n",
              "      }\n",
              "      const div = document.createElement('div');\n",
              "      const label = document.createElement('label');\n",
              "      label.textContent = `Downloading \"${filename}\": `;\n",
              "      div.appendChild(label);\n",
              "      const progress = document.createElement('progress');\n",
              "      progress.max = size;\n",
              "      div.appendChild(progress);\n",
              "      document.body.appendChild(div);\n",
              "\n",
              "      const buffers = [];\n",
              "      let downloaded = 0;\n",
              "\n",
              "      const channel = await google.colab.kernel.comms.open(id);\n",
              "      // Send a message to notify the kernel that we're ready.\n",
              "      channel.send({})\n",
              "\n",
              "      for await (const message of channel.messages) {\n",
              "        // Send a message to notify the kernel that we're ready.\n",
              "        channel.send({})\n",
              "        if (message.buffers) {\n",
              "          for (const buffer of message.buffers) {\n",
              "            buffers.push(buffer);\n",
              "            downloaded += buffer.byteLength;\n",
              "            progress.value = downloaded;\n",
              "          }\n",
              "        }\n",
              "      }\n",
              "      const blob = new Blob(buffers, {type: 'application/binary'});\n",
              "      const a = document.createElement('a');\n",
              "      a.href = window.URL.createObjectURL(blob);\n",
              "      a.download = filename;\n",
              "      div.appendChild(a);\n",
              "      a.click();\n",
              "      div.remove();\n",
              "    }\n",
              "  "
            ],
            "text/plain": [
              "<IPython.core.display.Javascript object>"
            ]
          },
          "metadata": {
            "tags": []
          }
        },
        {
          "output_type": "display_data",
          "data": {
            "application/javascript": [
              "download(\"download_5b5968f3-2dba-4e42-b5b9-a258e95f37c0\", \"cupcakes_keywords.csv\", 6108761)"
            ],
            "text/plain": [
              "<IPython.core.display.Javascript object>"
            ]
          },
          "metadata": {
            "tags": []
          }
        }
      ]
    }
  ]
}